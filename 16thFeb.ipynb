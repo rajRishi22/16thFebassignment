{
 "cells": [
  {
   "cell_type": "code",
   "execution_count": 1,
   "id": "aa281bc0-6a9a-4533-8754-556395add2b7",
   "metadata": {},
   "outputs": [],
   "source": [
    "# 1. A database is a system to store data and make changes into it as per needs .User can Update,execute,Retrive and Delete data thanks to databases.\n",
    "# SQL databases are Strucutred databases that uses only SQL language to maintain a database.\n",
    "# NoSQL databases can be Strucutred or Unstructured databases that not only uses SQL language but many other languages or methods to maintain a database.\n"
   ]
  },
  {
   "cell_type": "code",
   "execution_count": 2,
   "id": "1c5b189a-d180-4c76-a7d5-65a3c75420b8",
   "metadata": {},
   "outputs": [],
   "source": [
    "# 2.Ans\n",
    "# Data Definition Language (DDL) is a subset of SQL. It is a language for describing data and its relationships in a database\n",
    "# CREATE is used to create something , it could be a database or tables or rows etc.\n",
    "# CREATE DATABASE if not exists data2;\n",
    "# In SQL, the DROP command is used to remove the whole database or table indexes, data, and more. Whereas the TRUNCATE command is used to remove all the rows from the table.\n",
    "# ALTER Command: ALTER SQL command is a DDL (Data Definition Language) statement. ALTER is used to update the structure of the table in the database (like add, delete, modify the attributes of the tables in the database)\n"
   ]
  },
  {
   "cell_type": "code",
   "execution_count": 3,
   "id": "48cc837b-d2c3-4f86-8d4a-3bf7f82ce7b9",
   "metadata": {},
   "outputs": [],
   "source": [
    "# 3.Ans . DML is a subset of sql it is used to acess and manipulate data in existing tables.\n",
    "# INSERT command is used to insert rows to a table.\n",
    "# DELETE is used to delete a row from the table.\n",
    "# UPDATE is used to update values in a row in a table.\n",
    "# Example: INSERT INTO STUDENTS(name,roll no,maths,science,physics,chemistry,biology)\n"
   ]
  },
  {
   "cell_type": "code",
   "execution_count": 5,
   "id": "88e07402-42d8-42e1-be5b-c59ef68ffa88",
   "metadata": {},
   "outputs": [],
   "source": [
    "# 4.Ans DQL(Data Query Language ) is used to make various queries in a database.It is a part of SQL sub languages.\n",
    "# SELECT is used to select data from a table\n",
    "# example:  SELECT * FROM data1.table_name;"
   ]
  },
  {
   "cell_type": "code",
   "execution_count": 6,
   "id": "75ec10b2-045d-4508-ad33-462508787283",
   "metadata": {},
   "outputs": [],
   "source": [
    "# 5.Ans Primary keys are unique keys used to identify rows in a table .Through them we can access data in a database.For Example Roll number can be used to access database of stuents in a college.\n",
    "# Foreign key constraint is a key used to link two tables together. It is a field in one table that refers to KEY in another table."
   ]
  },
  {
   "cell_type": "code",
   "execution_count": 7,
   "id": "24256cba-de02-4032-8223-ad374c2a5aab",
   "metadata": {},
   "outputs": [],
   "source": [
    "# 6.Ans \n",
    "# import mysql.connector\n",
    "# mydb = mysql.connector.connect(\n",
    "#   host=\"localhost\",\n",
    "#   user=\"abc\",\n",
    "#   password=\"password\"\n",
    "# )\n",
    "# print(mydb)\n",
    "# mycursor = mydb.cursor()\n",
    "# mycursor.execute(\"SHOW DATABASES\")\n",
    "# for x in mycursor:\n",
    "#   print(x)\n",
    "\n",
    "# Cursor is a database object that allows us to retrive each row at a time and manipulate the data.\n",
    "# Execute method executes a apecified query, SQL statement ,stored procedures etc."
   ]
  },
  {
   "cell_type": "code",
   "execution_count": null,
   "id": "0b5de47a-8a07-4a6a-8cc5-af14e7a2bb96",
   "metadata": {},
   "outputs": [],
   "source": [
    "# 7.Ans\n",
    "# The order of execution of SQL clauses is FROM,WHERE,GROUP BY,HAVING,SELECT,ORDER BY ,LIMIT respectively from higher priority to lower."
   ]
  }
 ],
 "metadata": {
  "kernelspec": {
   "display_name": "Python 3 (ipykernel)",
   "language": "python",
   "name": "python3"
  },
  "language_info": {
   "codemirror_mode": {
    "name": "ipython",
    "version": 3
   },
   "file_extension": ".py",
   "mimetype": "text/x-python",
   "name": "python",
   "nbconvert_exporter": "python",
   "pygments_lexer": "ipython3",
   "version": "3.10.8"
  }
 },
 "nbformat": 4,
 "nbformat_minor": 5
}
